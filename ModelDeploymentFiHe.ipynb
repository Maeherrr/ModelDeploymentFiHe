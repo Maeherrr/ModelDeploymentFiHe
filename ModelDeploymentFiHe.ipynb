{
 "cells": [
  {
   "cell_type": "code",
   "execution_count": 8,
   "metadata": {},
   "outputs": [
    {
     "name": "stdout",
     "output_type": "stream",
     "text": [
      "Model parameters saved to model_params.json\n"
     ]
    }
   ],
   "source": [
    "import pandas as pd\n",
    "from sklearn.linear_model import LinearRegression\n",
    "import json\n",
    "\n",
    "# Load the Red Wine Quality dataset\n",
    "data = pd.read_csv(\"winequality_red.csv\")\n",
    "\n",
    "# Clean column names: remove leading/trailing spaces and replace spaces with underscores\n",
    "data.columns = [col.strip().replace(\" \", \"_\") for col in data.columns]\n",
    "\n",
    "# Drop rows with missing values (falls vorhanden)\n",
    "data = data.dropna(subset=data.columns)\n",
    "\n",
    "# Define target and features\n",
    "target = \"quality\"\n",
    "features = list(data.columns)\n",
    "features.remove(target)  # Alle Spalten außer 'quality' als Features\n",
    "\n",
    "X = data[features]\n",
    "y = data[target]\n",
    "\n",
    "# Train a Linear Regression model\n",
    "model = LinearRegression()\n",
    "model.fit(X, y)\n",
    "\n",
    "# Create a dictionary with the model parameters\n",
    "model_params = {\n",
    "    \"coefficients\": model.coef_.tolist(),  # Liste von Koeffizienten in der gleichen Reihenfolge wie features\n",
    "    \"intercept\": model.intercept_,\n",
    "    \"features\": features\n",
    "}\n",
    "\n",
    "# Save the model parameters to a JSON file\n",
    "with open(\"model_params.json\", \"w\") as f:\n",
    "    json.dump(model_params, f, indent=4)\n",
    "\n",
    "print(\"Model parameters saved to model_params.json\")\n"
   ]
  }
 ],
 "metadata": {
  "kernelspec": {
   "display_name": "Python 3",
   "language": "python",
   "name": "python3"
  },
  "language_info": {
   "codemirror_mode": {
    "name": "ipython",
    "version": 3
   },
   "file_extension": ".py",
   "mimetype": "text/x-python",
   "name": "python",
   "nbconvert_exporter": "python",
   "pygments_lexer": "ipython3",
   "version": "3.11.4"
  }
 },
 "nbformat": 4,
 "nbformat_minor": 2
}
